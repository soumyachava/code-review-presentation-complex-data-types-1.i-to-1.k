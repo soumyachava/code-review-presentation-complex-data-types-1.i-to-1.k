{
 "cells": [
  {
   "cell_type": "code",
   "execution_count": 1,
   "id": "22d93ef1-3d52-4169-b5aa-32d2cae1b360",
   "metadata": {},
   "outputs": [
    {
     "data": {
      "text/plain": [
       "'\\n.i Coerce the set to a list and use the \"+\" operator combine the list to the list from 1.a\\n .j Coerce 1.i to a set\\n .k Count the number of elements in the 1.j\\n '"
      ]
     },
     "execution_count": 1,
     "metadata": {},
     "output_type": "execute_result"
    }
   ],
   "source": [
    "'''\n",
    ".i Coerce the set to a list and use the \"+\" operator combine the list to the list from 1.a\n",
    " .j Coerce 1.i to a set\n",
    " .k Count the number of elements in the 1.j\n",
    " '''\n"
   ]
  },
  {
   "cell_type": "code",
   "execution_count": 6,
   "id": "cf7d4892-212a-498f-bb7d-823fc0040daf",
   "metadata": {},
   "outputs": [
    {
     "name": "stdout",
     "output_type": "stream",
     "text": [
      "[0, 1, 2, 3, 4, 5, 6, 7, 8, 9]\n",
      "[0, 1, 2, 3, 4, 8, 6, 7, 8, 9]\n",
      "[0.0]\n",
      "[0.0, 1.0]\n",
      "[0.0, 1.0, 2.0]\n",
      "[0.0, 1.0, 2.0, 3.0]\n",
      "[0.0, 1.0, 2.0, 3.0, 4.0]\n",
      "[0.0, 1.0, 2.0, 3.0, 4.0, 8.0]\n",
      "[0.0, 1.0, 2.0, 3.0, 4.0, 8.0, 6.0]\n",
      "[0.0, 1.0, 2.0, 3.0, 4.0, 8.0, 6.0, 7.0]\n",
      "[0.0, 1.0, 2.0, 3.0, 4.0, 8.0, 6.0, 7.0, 8.0]\n",
      "[0.0, 1.0, 2.0, 3.0, 4.0, 8.0, 6.0, 7.0, 8.0, 9.0]\n",
      "{0.0, 1.0, 2.0, 3.0, 4.0, 6.0, 7.0, 8.0, 9.0}\n",
      "{0.0, 1.0, 2.0, 3.0, 4.0, 6.0, 7.0, 8.0, 9.0, 10}\n",
      "{1.0, 2.0, 3.0, 4.0, 6.0, 7.0, 8.0, 9.0, 10}\n",
      "9\n",
      "False\n"
     ]
    }
   ],
   "source": [
    "#prblm 1\n",
    "one_a = [0,1,2,3,4,5,6,7,8,9]\n",
    "print(one_a)\n",
    "int_list = one_a\n",
    "\n",
    "one_b = one_a\n",
    "one_b[5] = one_b[5]+3\n",
    "print(one_b)\n",
    "\n",
    "\n",
    "one_c = []\n",
    "for num in one_b:\n",
    "    one_c.append(float(num))\n",
    "    print(one_c)\n",
    "\n",
    "one_d = set(one_c)\n",
    "print(one_d)\n",
    "\n",
    "one_e = one_d\n",
    "one_e.add(10)\n",
    "print(one_e)\n",
    "\n",
    "one_f = one_e\n",
    "one_f.pop()\n",
    "print(one_f)\n",
    "float_set = one_f\n",
    "\n",
    "one_g = len(one_f)\n",
    "print(one_g)\n",
    "\n",
    "one_h = (len(one_c)==len(one_f))\n",
    "print(one_h)"
   ]
  },
  {
   "cell_type": "code",
   "execution_count": 11,
   "id": "fd0b634d-f091-4f9c-858d-d4e4c64570c3",
   "metadata": {},
   "outputs": [
    {
     "name": "stdout",
     "output_type": "stream",
     "text": [
      "Step 1.i: Combined list: [1.0, 2.0, 3.0, 4.0, 6.0, 7.0, 8.0, 9.0, 10, 0, 1, 2, 3, 4, 8, 6, 7, 8, 9]\n"
     ]
    }
   ],
   "source": [
    "# 1.i\n",
    "#i Coerce the set to a list and use the \"+\" operator combine the list to the list from 1.a\n",
    "# we take float_set from question f and convert convert it back into a list using the list()fun\n",
    "one_i = list(one_f) + one_a\n",
    "print(\"Step 1.i: Combined list:\", one_i)"
   ]
  },
  {
   "cell_type": "code",
   "execution_count": 12,
   "id": "600ad728-ad5d-4ee4-bb34-c052e8d1ae56",
   "metadata": {},
   "outputs": [
    {
     "name": "stdout",
     "output_type": "stream",
     "text": [
      "{0, 1.0, 2.0, 3.0, 4.0, 6.0, 7.0, 8.0, 9.0, 10}\n"
     ]
    }
   ],
   "source": [
    "# 1. j\n",
    "#j Coerce 1.i to a set\n",
    "#we take the combined list from step 1.i and convert it into a set using the set() function.\n",
    "one_j = set(one_i)\n",
    "print(one_j)"
   ]
  },
  {
   "cell_type": "code",
   "execution_count": 13,
   "id": "2acf834f-fe5d-4e61-9cea-6364d3f51d2a",
   "metadata": {},
   "outputs": [
    {
     "name": "stdout",
     "output_type": "stream",
     "text": [
      "10\n"
     ]
    }
   ],
   "source": [
    "#1.k\n",
    "#k Count the number of elements in the 1.j\n",
    "# we use len() fun  that returns the number of elements in a collection\n",
    "one_k = len(one_j)\n",
    "print(one_k)"
   ]
  },
  {
   "cell_type": "code",
   "execution_count": null,
   "id": "867c7607-a507-469e-8a5d-1e0437e87664",
   "metadata": {},
   "outputs": [],
   "source": []
  }
 ],
 "metadata": {
  "kernelspec": {
   "display_name": "Python 3 (ipykernel)",
   "language": "python",
   "name": "python3"
  },
  "language_info": {
   "codemirror_mode": {
    "name": "ipython",
    "version": 3
   },
   "file_extension": ".py",
   "mimetype": "text/x-python",
   "name": "python",
   "nbconvert_exporter": "python",
   "pygments_lexer": "ipython3",
   "version": "3.12.5"
  }
 },
 "nbformat": 4,
 "nbformat_minor": 5
}
